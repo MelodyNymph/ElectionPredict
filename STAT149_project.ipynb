{
 "cells": [
  {
   "cell_type": "code",
   "execution_count": 2,
   "metadata": {
    "collapsed": true
   },
   "outputs": [],
   "source": [
    "import pandas as pd\n",
    "import numpy as np\n",
    "import time\n",
    "import math\n",
    "import matplotlib.pyplot as plt\n",
    "from sklearn.pipeline import Pipeline\n",
    "from sklearn.linear_model import LinearRegression\n",
    "from sklearn.cross_validation import train_test_split\n",
    "from sklearn.grid_search import GridSearchCV\n",
    "from sklearn.metrics import mean_squared_error\n",
    "from sklearn import ensemble\n",
    "from sklearn.ensemble import RandomForestClassifier\n",
    "from sklearn.neighbors import KNeighborsClassifier as KNN\n",
    "from sklearn.svm import SVC\n",
    "from sklearn.discriminant_analysis import LinearDiscriminantAnalysis as LDA\n",
    "from sklearn.discriminant_analysis import QuadraticDiscriminantAnalysis as QDA\n",
    "from sklearn.ensemble import AdaBoostClassifier as AdaBoost\n",
    "from sklearn.ensemble import BaggingClassifier as Bagging\n",
    "from sklearn.ensemble import GradientBoostingClassifier as GBoost\n",
    "from sklearn.ensemble import VotingClassifier as Voting\n",
    "from sklearn import preprocessing\n"
   ]
  },
  {
   "cell_type": "markdown",
   "metadata": {},
   "source": [
    "## Do training data\n",
    "### Load amd check training dataset"
   ]
  },
  {
   "cell_type": "code",
   "execution_count": 3,
   "metadata": {
    "collapsed": false
   },
   "outputs": [],
   "source": [
    "# load data\n",
    "train = pd.read_csv(\"train.csv\")\n",
    "print train.shape"
   ]
  },
  {
   "cell_type": "code",
   "execution_count": 4,
   "metadata": {
    "collapsed": false
   },
   "outputs": [
    {
     "data": {
      "text/html": [
       "<div>\n",
       "<table border=\"1\" class=\"dataframe\">\n",
       "  <thead>\n",
       "    <tr style=\"text-align: right;\">\n",
       "      <th></th>\n",
       "      <th>voted</th>\n",
       "      <th>gender</th>\n",
       "      <th>cd</th>\n",
       "      <th>hd</th>\n",
       "      <th>age</th>\n",
       "      <th>dbdistance</th>\n",
       "      <th>vccdistance</th>\n",
       "      <th>party</th>\n",
       "      <th>racename</th>\n",
       "      <th>hsonly</th>\n",
       "      <th>mrrg</th>\n",
       "      <th>chldprsnt</th>\n",
       "      <th>cath</th>\n",
       "      <th>evang</th>\n",
       "      <th>nonchrst</th>\n",
       "      <th>otherchrst</th>\n",
       "      <th>days.since.reg</th>\n",
       "    </tr>\n",
       "  </thead>\n",
       "  <tbody>\n",
       "    <tr>\n",
       "      <th>0</th>\n",
       "      <td>Y</td>\n",
       "      <td>M</td>\n",
       "      <td>7.0</td>\n",
       "      <td>31.0</td>\n",
       "      <td>36</td>\n",
       "      <td>NaN</td>\n",
       "      <td>NaN</td>\n",
       "      <td>U</td>\n",
       "      <td>Hispanic</td>\n",
       "      <td>25.4</td>\n",
       "      <td>63.4</td>\n",
       "      <td>54.0</td>\n",
       "      <td>16.7</td>\n",
       "      <td>16.5</td>\n",
       "      <td>39.6</td>\n",
       "      <td>27.3</td>\n",
       "      <td>420</td>\n",
       "    </tr>\n",
       "    <tr>\n",
       "      <th>1</th>\n",
       "      <td>Y</td>\n",
       "      <td>F</td>\n",
       "      <td>6.0</td>\n",
       "      <td>38.0</td>\n",
       "      <td>55</td>\n",
       "      <td>NaN</td>\n",
       "      <td>NaN</td>\n",
       "      <td>U</td>\n",
       "      <td>Uncoded</td>\n",
       "      <td>7.9</td>\n",
       "      <td>97.8</td>\n",
       "      <td>59.8</td>\n",
       "      <td>16.7</td>\n",
       "      <td>15.5</td>\n",
       "      <td>30.9</td>\n",
       "      <td>36.9</td>\n",
       "      <td>307</td>\n",
       "    </tr>\n",
       "    <tr>\n",
       "      <th>2</th>\n",
       "      <td>Y</td>\n",
       "      <td>F</td>\n",
       "      <td>2.0</td>\n",
       "      <td>53.0</td>\n",
       "      <td>24</td>\n",
       "      <td>NaN</td>\n",
       "      <td>NaN</td>\n",
       "      <td>U</td>\n",
       "      <td>Caucasian</td>\n",
       "      <td>50.2</td>\n",
       "      <td>7.6</td>\n",
       "      <td>49.5</td>\n",
       "      <td>14.6</td>\n",
       "      <td>24.0</td>\n",
       "      <td>29.6</td>\n",
       "      <td>31.7</td>\n",
       "      <td>292</td>\n",
       "    </tr>\n",
       "    <tr>\n",
       "      <th>3</th>\n",
       "      <td>Y</td>\n",
       "      <td>F</td>\n",
       "      <td>7.0</td>\n",
       "      <td>30.0</td>\n",
       "      <td>25</td>\n",
       "      <td>NaN</td>\n",
       "      <td>NaN</td>\n",
       "      <td>D</td>\n",
       "      <td>Caucasian</td>\n",
       "      <td>38.0</td>\n",
       "      <td>8.5</td>\n",
       "      <td>47.4</td>\n",
       "      <td>13.1</td>\n",
       "      <td>22.3</td>\n",
       "      <td>33.3</td>\n",
       "      <td>31.4</td>\n",
       "      <td>316</td>\n",
       "    </tr>\n",
       "    <tr>\n",
       "      <th>4</th>\n",
       "      <td>Y</td>\n",
       "      <td>M</td>\n",
       "      <td>5.0</td>\n",
       "      <td>19.0</td>\n",
       "      <td>22</td>\n",
       "      <td>NaN</td>\n",
       "      <td>NaN</td>\n",
       "      <td>R</td>\n",
       "      <td>Caucasian</td>\n",
       "      <td>30.5</td>\n",
       "      <td>19.1</td>\n",
       "      <td>23.1</td>\n",
       "      <td>16.0</td>\n",
       "      <td>10.5</td>\n",
       "      <td>39.1</td>\n",
       "      <td>34.5</td>\n",
       "      <td>392</td>\n",
       "    </tr>\n",
       "  </tbody>\n",
       "</table>\n",
       "</div>"
      ],
      "text/plain": [
       "  voted gender   cd    hd  age  dbdistance  vccdistance party   racename  \\\n",
       "0     Y      M  7.0  31.0   36         NaN          NaN     U   Hispanic   \n",
       "1     Y      F  6.0  38.0   55         NaN          NaN     U    Uncoded   \n",
       "2     Y      F  2.0  53.0   24         NaN          NaN     U  Caucasian   \n",
       "3     Y      F  7.0  30.0   25         NaN          NaN     D  Caucasian   \n",
       "4     Y      M  5.0  19.0   22         NaN          NaN     R  Caucasian   \n",
       "\n",
       "   hsonly  mrrg  chldprsnt  cath  evang  nonchrst  otherchrst  days.since.reg  \n",
       "0    25.4  63.4       54.0  16.7   16.5      39.6        27.3             420  \n",
       "1     7.9  97.8       59.8  16.7   15.5      30.9        36.9             307  \n",
       "2    50.2   7.6       49.5  14.6   24.0      29.6        31.7             292  \n",
       "3    38.0   8.5       47.4  13.1   22.3      33.3        31.4             316  \n",
       "4    30.5  19.1       23.1  16.0   10.5      39.1        34.5             392  "
      ]
     },
     "execution_count": 4,
     "metadata": {},
     "output_type": "execute_result"
    }
   ],
   "source": [
    "train.head()"
   ]
  },
  {
   "cell_type": "markdown",
   "metadata": {},
   "source": [
    "### Check and fill missing data"
   ]
  },
  {
   "cell_type": "code",
   "execution_count": 20,
   "metadata": {
    "collapsed": false
   },
   "outputs": [
    {
     "name": "stdout",
     "output_type": "stream",
     "text": [
      "gender any null? False\n",
      "cd any null? True\n",
      "hd any null? True\n",
      "age any null? False\n",
      "dbdistance any null? True\n",
      "vccdistance any null? True\n",
      "party any null? False\n",
      "racename any null? False\n",
      "hsonly any null? False\n",
      "mrrg any null? False\n",
      "chldprsnt any null? False\n",
      "cath any null? False\n",
      "evang any null? False\n",
      "nonchrst any null? False\n",
      "otherchrst any null? False\n",
      "days.since.reg any null? False\n"
     ]
    }
   ],
   "source": [
    "# check NaN column by column\n",
    "print 'gender any null? ' + str(train['gender'].isnull().values.any())\n",
    "print 'cd any null? ' + str(train['cd'].isnull().values.any())\n",
    "print 'hd any null? ' + str(train['hd'].isnull().values.any())\n",
    "print 'age any null? ' + str(train['age'].isnull().values.any())\n",
    "print 'dbdistance any null? ' + str(train['dbdistance'].isnull().values.any())\n",
    "print 'vccdistance any null? ' + str(train['vccdistance'].isnull().values.any())\n",
    "print 'party any null? ' + str(train['party'].isnull().values.any())\n",
    "print 'racename any null? ' + str(train['racename'].isnull().values.any())\n",
    "print 'hsonly any null? ' + str(train['hsonly'].isnull().values.any())\n",
    "print 'mrrg any null? ' + str(train['mrrg'].isnull().values.any())\n",
    "print 'chldprsnt any null? ' + str(train['chldprsnt'].isnull().values.any())\n",
    "print 'cath any null? ' + str(train['cath'].isnull().values.any())\n",
    "print 'evang any null? ' + str(train['evang'].isnull().values.any())\n",
    "print 'nonchrst any null? ' + str(train['nonchrst'].isnull().values.any())\n",
    "print 'otherchrst any null? ' + str(train['otherchrst'].isnull().values.any())\n",
    "print 'days.since.reg any null? ' + str(train['days.since.reg'].isnull().values.any())\n",
    "#print 'Id any null? ' + str(train['Id'].isnull().values.any())"
   ]
  },
  {
   "cell_type": "code",
   "execution_count": 50,
   "metadata": {
    "collapsed": false
   },
   "outputs": [],
   "source": [
    "# fill missing data\n",
    "predictors_na = ['cd', 'hd', 'dbdistance', 'vccdistance']\n",
    "train_filled = pd.DataFrame(train)\n",
    "train_filled[predictors_na] = train_filled[predictors_na].apply(lambda x:x.fillna(x.mean()))"
   ]
  },
  {
   "cell_type": "code",
   "execution_count": 51,
   "metadata": {
    "collapsed": false
   },
   "outputs": [
    {
     "name": "stdout",
     "output_type": "stream",
     "text": [
      "cd any null? False\n",
      "hd any null? False\n",
      "dbdistance any null? False\n",
      "vccdistance any null? False\n"
     ]
    }
   ],
   "source": [
    "print 'cd any null? ' + str(train_filled['cd'].isnull().values.any())\n",
    "print 'hd any null? ' + str(train_filled['hd'].isnull().values.any())\n",
    "print 'dbdistance any null? ' + str(train_filled['dbdistance'].isnull().values.any())\n",
    "print 'vccdistance any null? ' + str(train_filled['vccdistance'].isnull().values.any())"
   ]
  },
  {
   "cell_type": "markdown",
   "metadata": {},
   "source": [
    "### Do one-hot encoding and split my_train and my_test"
   ]
  },
  {
   "cell_type": "code",
   "execution_count": 58,
   "metadata": {
    "collapsed": false
   },
   "outputs": [
    {
     "data": {
      "text/html": [
       "<div>\n",
       "<table border=\"1\" class=\"dataframe\">\n",
       "  <thead>\n",
       "    <tr style=\"text-align: right;\">\n",
       "      <th></th>\n",
       "      <th>gender</th>\n",
       "      <th>cd</th>\n",
       "      <th>hd</th>\n",
       "      <th>age</th>\n",
       "      <th>dbdistance</th>\n",
       "      <th>vccdistance</th>\n",
       "      <th>party</th>\n",
       "      <th>racename</th>\n",
       "      <th>hsonly</th>\n",
       "      <th>mrrg</th>\n",
       "      <th>chldprsnt</th>\n",
       "      <th>cath</th>\n",
       "      <th>evang</th>\n",
       "      <th>nonchrst</th>\n",
       "      <th>otherchrst</th>\n",
       "      <th>days.since.reg</th>\n",
       "    </tr>\n",
       "  </thead>\n",
       "  <tbody>\n",
       "    <tr>\n",
       "      <th>0</th>\n",
       "      <td>M</td>\n",
       "      <td>7.0</td>\n",
       "      <td>31.0</td>\n",
       "      <td>36</td>\n",
       "      <td>2.910943</td>\n",
       "      <td>3.242254</td>\n",
       "      <td>U</td>\n",
       "      <td>Hispanic</td>\n",
       "      <td>25.4</td>\n",
       "      <td>63.4</td>\n",
       "      <td>54.0</td>\n",
       "      <td>16.7</td>\n",
       "      <td>16.5</td>\n",
       "      <td>39.6</td>\n",
       "      <td>27.3</td>\n",
       "      <td>420</td>\n",
       "    </tr>\n",
       "    <tr>\n",
       "      <th>1</th>\n",
       "      <td>F</td>\n",
       "      <td>6.0</td>\n",
       "      <td>38.0</td>\n",
       "      <td>55</td>\n",
       "      <td>2.910943</td>\n",
       "      <td>3.242254</td>\n",
       "      <td>U</td>\n",
       "      <td>Uncoded</td>\n",
       "      <td>7.9</td>\n",
       "      <td>97.8</td>\n",
       "      <td>59.8</td>\n",
       "      <td>16.7</td>\n",
       "      <td>15.5</td>\n",
       "      <td>30.9</td>\n",
       "      <td>36.9</td>\n",
       "      <td>307</td>\n",
       "    </tr>\n",
       "    <tr>\n",
       "      <th>2</th>\n",
       "      <td>F</td>\n",
       "      <td>2.0</td>\n",
       "      <td>53.0</td>\n",
       "      <td>24</td>\n",
       "      <td>2.910943</td>\n",
       "      <td>3.242254</td>\n",
       "      <td>U</td>\n",
       "      <td>Caucasian</td>\n",
       "      <td>50.2</td>\n",
       "      <td>7.6</td>\n",
       "      <td>49.5</td>\n",
       "      <td>14.6</td>\n",
       "      <td>24.0</td>\n",
       "      <td>29.6</td>\n",
       "      <td>31.7</td>\n",
       "      <td>292</td>\n",
       "    </tr>\n",
       "    <tr>\n",
       "      <th>3</th>\n",
       "      <td>F</td>\n",
       "      <td>7.0</td>\n",
       "      <td>30.0</td>\n",
       "      <td>25</td>\n",
       "      <td>2.910943</td>\n",
       "      <td>3.242254</td>\n",
       "      <td>D</td>\n",
       "      <td>Caucasian</td>\n",
       "      <td>38.0</td>\n",
       "      <td>8.5</td>\n",
       "      <td>47.4</td>\n",
       "      <td>13.1</td>\n",
       "      <td>22.3</td>\n",
       "      <td>33.3</td>\n",
       "      <td>31.4</td>\n",
       "      <td>316</td>\n",
       "    </tr>\n",
       "    <tr>\n",
       "      <th>4</th>\n",
       "      <td>M</td>\n",
       "      <td>5.0</td>\n",
       "      <td>19.0</td>\n",
       "      <td>22</td>\n",
       "      <td>2.910943</td>\n",
       "      <td>3.242254</td>\n",
       "      <td>R</td>\n",
       "      <td>Caucasian</td>\n",
       "      <td>30.5</td>\n",
       "      <td>19.1</td>\n",
       "      <td>23.1</td>\n",
       "      <td>16.0</td>\n",
       "      <td>10.5</td>\n",
       "      <td>39.1</td>\n",
       "      <td>34.5</td>\n",
       "      <td>392</td>\n",
       "    </tr>\n",
       "  </tbody>\n",
       "</table>\n",
       "</div>"
      ],
      "text/plain": [
       "  gender   cd    hd  age  dbdistance  vccdistance party   racename  hsonly  \\\n",
       "0      M  7.0  31.0   36    2.910943     3.242254     U   Hispanic    25.4   \n",
       "1      F  6.0  38.0   55    2.910943     3.242254     U    Uncoded     7.9   \n",
       "2      F  2.0  53.0   24    2.910943     3.242254     U  Caucasian    50.2   \n",
       "3      F  7.0  30.0   25    2.910943     3.242254     D  Caucasian    38.0   \n",
       "4      M  5.0  19.0   22    2.910943     3.242254     R  Caucasian    30.5   \n",
       "\n",
       "   mrrg  chldprsnt  cath  evang  nonchrst  otherchrst  days.since.reg  \n",
       "0  63.4       54.0  16.7   16.5      39.6        27.3             420  \n",
       "1  97.8       59.8  16.7   15.5      30.9        36.9             307  \n",
       "2   7.6       49.5  14.6   24.0      29.6        31.7             292  \n",
       "3   8.5       47.4  13.1   22.3      33.3        31.4             316  \n",
       "4  19.1       23.1  16.0   10.5      39.1        34.5             392  "
      ]
     },
     "execution_count": 58,
     "metadata": {},
     "output_type": "execute_result"
    }
   ],
   "source": [
    "# one-hot encoding categorical predictors\n",
    "predictors = ['gender', 'cd', 'hd', 'age', 'dbdistance', 'vccdistance',\n",
    "       'party', 'racename', 'hsonly', 'mrrg', 'chldprsnt', 'cath', 'evang',\n",
    "       'nonchrst', 'otherchrst', 'days.since.reg']\n",
    "cate = ['gender', 'cd', 'hd', 'party', 'racename', ]\n",
    "\n",
    "df_x=pd.DataFrame(train_filled[predictors])\n",
    "df_x.head()"
   ]
  },
  {
   "cell_type": "code",
   "execution_count": 59,
   "metadata": {
    "collapsed": false
   },
   "outputs": [
    {
     "name": "stdout",
     "output_type": "stream",
     "text": [
      "(118529, 105)\n"
     ]
    }
   ],
   "source": [
    "# one hot encoding 'gender'\n",
    "onehot = pd.get_dummies(df_x['gender'],prefix='gen')\n",
    "df_x = df_x.drop('gender', axis=1)\n",
    "df_x = df_x.join(onehot)\n",
    "\n",
    "# one hot encoding 'cd'\n",
    "onehot = pd.get_dummies(df_x['cd'],prefix='cd')\n",
    "df_x = df_x.drop('cd', axis=1)\n",
    "df_x = df_x.join(onehot)\n",
    "\n",
    "# one hot encoding 'hd'\n",
    "onehot = pd.get_dummies(df_x['hd'],prefix='hd')\n",
    "df_x = df_x.drop('hd', axis=1)\n",
    "df_x = df_x.join(onehot)\n",
    "\n",
    "# one hot encoding 'party'\n",
    "onehot = pd.get_dummies(df_x['party'],prefix='pty')\n",
    "df_x = df_x.drop('party', axis=1)\n",
    "df_x = df_x.join(onehot)\n",
    "\n",
    "# one hot encoding 'racename'\n",
    "onehot = pd.get_dummies(df_x['racename'])\n",
    "df_x = df_x.drop('racename', axis=1)\n",
    "df_x = df_x.join(onehot)\n",
    "\n",
    "df_x.head(7)\n",
    "print df_x.shape"
   ]
  },
  {
   "cell_type": "code",
   "execution_count": 61,
   "metadata": {
    "collapsed": false
   },
   "outputs": [
    {
     "name": "stdout",
     "output_type": "stream",
     "text": [
      "[[  36.            2.91094259    3.24225376   25.4          63.4          54.\n",
      "    16.7          16.5          39.6          27.3         420.            0.\n",
      "     1.            0.            0.            0.            0.            0.\n",
      "     0.            0.            0.            1.            0.            0.\n",
      "     0.            0.            0.            0.            0.            0.\n",
      "     0.            0.            0.            0.            0.            0.\n",
      "     0.            0.            0.            0.            0.            0.\n",
      "     0.            0.            0.            0.            0.            0.\n",
      "     0.            0.            0.            0.            0.            1.\n",
      "     0.            0.            0.            0.            0.            0.\n",
      "     0.            0.            0.            0.            0.            0.\n",
      "     0.            0.            0.            0.            0.            0.\n",
      "     0.            0.            0.            0.            0.            0.\n",
      "     0.            0.            0.            0.            0.            0.\n",
      "     0.            0.            0.            0.            0.            0.\n",
      "     0.            0.            0.            1.            0.            0.\n",
      "     0.            0.            1.            0.            0.            0.\n",
      "     0.            0.            0.        ]\n",
      " [  55.            2.91094259    3.24225376    7.9          97.8          59.8\n",
      "    16.7          15.5          30.9          36.9         307.            1.\n",
      "     0.            0.            0.            0.            0.            0.\n",
      "     0.            0.            1.            0.            0.            0.\n",
      "     0.            0.            0.            0.            0.            0.\n",
      "     0.            0.            0.            0.            0.            0.\n",
      "     0.            0.            0.            0.            0.            0.\n",
      "     0.            0.            0.            0.            0.            0.\n",
      "     0.            0.            0.            0.            0.            0.\n",
      "     0.            0.            0.            0.            0.            0.\n",
      "     1.            0.            0.            0.            0.            0.\n",
      "     0.            0.            0.            0.            0.            0.\n",
      "     0.            0.            0.            0.            0.            0.\n",
      "     0.            0.            0.            0.            0.            0.\n",
      "     0.            0.            0.            0.            0.            0.\n",
      "     0.            0.            0.            1.            0.            0.\n",
      "     0.            0.            0.            0.            0.            0.\n",
      "     0.            0.            1.        ]\n",
      " [  24.            2.91094259    3.24225376   50.2           7.6          49.5\n",
      "    14.6          24.           29.6          31.7         292.            1.\n",
      "     0.            0.            0.            1.            0.            0.\n",
      "     0.            0.            0.            0.            0.            0.\n",
      "     0.            0.            0.            0.            0.            0.\n",
      "     0.            0.            0.            0.            0.            0.\n",
      "     0.            0.            0.            0.            0.            0.\n",
      "     0.            0.            0.            0.            0.            0.\n",
      "     0.            0.            0.            0.            0.            0.\n",
      "     0.            0.            0.            0.            0.            0.\n",
      "     0.            0.            0.            0.            0.            0.\n",
      "     0.            0.            0.            0.            0.            0.\n",
      "     0.            0.            0.            1.            0.            0.\n",
      "     0.            0.            0.            0.            0.            0.\n",
      "     0.            0.            0.            0.            0.            0.\n",
      "     0.            0.            0.            1.            0.            1.\n",
      "     0.            0.            0.            0.            0.            0.\n",
      "     0.            0.            0.        ]]\n",
      "['Y' 'Y' 'Y']\n"
     ]
    }
   ],
   "source": [
    "# separate x, y\n",
    "x=df_x.values\n",
    "y=train_filled['voted'].values\n",
    "print x[0:3,:]\n",
    "print y[0:3]"
   ]
  },
  {
   "cell_type": "code",
   "execution_count": 62,
   "metadata": {
    "collapsed": true
   },
   "outputs": [],
   "source": [
    "# Randomly split into train and test sets\n",
    "my_x_train, my_x_test, my_y_train, my_y_test = train_test_split(x, y, test_size=0.25, random_state=42)"
   ]
  },
  {
   "cell_type": "markdown",
   "metadata": {},
   "source": [
    "## Do testing data\n",
    "### Load testing data"
   ]
  },
  {
   "cell_type": "code",
   "execution_count": 69,
   "metadata": {
    "collapsed": false
   },
   "outputs": [
    {
     "name": "stdout",
     "output_type": "stream",
     "text": [
      "(39510, 17)\n"
     ]
    },
    {
     "data": {
      "text/html": [
       "<div>\n",
       "<table border=\"1\" class=\"dataframe\">\n",
       "  <thead>\n",
       "    <tr style=\"text-align: right;\">\n",
       "      <th></th>\n",
       "      <th>gender</th>\n",
       "      <th>cd</th>\n",
       "      <th>hd</th>\n",
       "      <th>age</th>\n",
       "      <th>dbdistance</th>\n",
       "      <th>vccdistance</th>\n",
       "      <th>party</th>\n",
       "      <th>racename</th>\n",
       "      <th>hsonly</th>\n",
       "      <th>mrrg</th>\n",
       "      <th>chldprsnt</th>\n",
       "      <th>cath</th>\n",
       "      <th>evang</th>\n",
       "      <th>nonchrst</th>\n",
       "      <th>otherchrst</th>\n",
       "      <th>days.since.reg</th>\n",
       "      <th>Id</th>\n",
       "    </tr>\n",
       "  </thead>\n",
       "  <tbody>\n",
       "    <tr>\n",
       "      <th>0</th>\n",
       "      <td>M</td>\n",
       "      <td>2.0</td>\n",
       "      <td>52.0</td>\n",
       "      <td>30</td>\n",
       "      <td>NaN</td>\n",
       "      <td>NaN</td>\n",
       "      <td>L</td>\n",
       "      <td>Caucasian</td>\n",
       "      <td>19.5</td>\n",
       "      <td>21.2</td>\n",
       "      <td>25.3</td>\n",
       "      <td>9.8</td>\n",
       "      <td>16.6</td>\n",
       "      <td>45.2</td>\n",
       "      <td>28.4</td>\n",
       "      <td>393</td>\n",
       "      <td>1</td>\n",
       "    </tr>\n",
       "    <tr>\n",
       "      <th>1</th>\n",
       "      <td>F</td>\n",
       "      <td>5.0</td>\n",
       "      <td>19.0</td>\n",
       "      <td>20</td>\n",
       "      <td>NaN</td>\n",
       "      <td>NaN</td>\n",
       "      <td>U</td>\n",
       "      <td>Caucasian</td>\n",
       "      <td>39.7</td>\n",
       "      <td>20.2</td>\n",
       "      <td>29.1</td>\n",
       "      <td>12.0</td>\n",
       "      <td>14.4</td>\n",
       "      <td>41.4</td>\n",
       "      <td>32.2</td>\n",
       "      <td>668</td>\n",
       "      <td>2</td>\n",
       "    </tr>\n",
       "    <tr>\n",
       "      <th>2</th>\n",
       "      <td>M</td>\n",
       "      <td>4.0</td>\n",
       "      <td>44.0</td>\n",
       "      <td>56</td>\n",
       "      <td>NaN</td>\n",
       "      <td>NaN</td>\n",
       "      <td>R</td>\n",
       "      <td>Caucasian</td>\n",
       "      <td>11.3</td>\n",
       "      <td>62.7</td>\n",
       "      <td>41.3</td>\n",
       "      <td>14.8</td>\n",
       "      <td>14.7</td>\n",
       "      <td>36.0</td>\n",
       "      <td>34.6</td>\n",
       "      <td>606</td>\n",
       "      <td>3</td>\n",
       "    </tr>\n",
       "    <tr>\n",
       "      <th>3</th>\n",
       "      <td>F</td>\n",
       "      <td>7.0</td>\n",
       "      <td>34.0</td>\n",
       "      <td>20</td>\n",
       "      <td>NaN</td>\n",
       "      <td>NaN</td>\n",
       "      <td>R</td>\n",
       "      <td>Caucasian</td>\n",
       "      <td>32.8</td>\n",
       "      <td>11.6</td>\n",
       "      <td>33.1</td>\n",
       "      <td>14.5</td>\n",
       "      <td>10.3</td>\n",
       "      <td>44.6</td>\n",
       "      <td>30.6</td>\n",
       "      <td>565</td>\n",
       "      <td>4</td>\n",
       "    </tr>\n",
       "    <tr>\n",
       "      <th>4</th>\n",
       "      <td>F</td>\n",
       "      <td>6.0</td>\n",
       "      <td>41.0</td>\n",
       "      <td>26</td>\n",
       "      <td>NaN</td>\n",
       "      <td>NaN</td>\n",
       "      <td>D</td>\n",
       "      <td>Uncoded</td>\n",
       "      <td>10.2</td>\n",
       "      <td>14.7</td>\n",
       "      <td>22.4</td>\n",
       "      <td>8.2</td>\n",
       "      <td>18.4</td>\n",
       "      <td>43.5</td>\n",
       "      <td>29.9</td>\n",
       "      <td>336</td>\n",
       "      <td>5</td>\n",
       "    </tr>\n",
       "  </tbody>\n",
       "</table>\n",
       "</div>"
      ],
      "text/plain": [
       "  gender   cd    hd  age  dbdistance  vccdistance party   racename  hsonly  \\\n",
       "0      M  2.0  52.0   30         NaN          NaN     L  Caucasian    19.5   \n",
       "1      F  5.0  19.0   20         NaN          NaN     U  Caucasian    39.7   \n",
       "2      M  4.0  44.0   56         NaN          NaN     R  Caucasian    11.3   \n",
       "3      F  7.0  34.0   20         NaN          NaN     R  Caucasian    32.8   \n",
       "4      F  6.0  41.0   26         NaN          NaN     D    Uncoded    10.2   \n",
       "\n",
       "   mrrg  chldprsnt  cath  evang  nonchrst  otherchrst  days.since.reg  Id  \n",
       "0  21.2       25.3   9.8   16.6      45.2        28.4             393   1  \n",
       "1  20.2       29.1  12.0   14.4      41.4        32.2             668   2  \n",
       "2  62.7       41.3  14.8   14.7      36.0        34.6             606   3  \n",
       "3  11.6       33.1  14.5   10.3      44.6        30.6             565   4  \n",
       "4  14.7       22.4   8.2   18.4      43.5        29.9             336   5  "
      ]
     },
     "execution_count": 69,
     "metadata": {},
     "output_type": "execute_result"
    }
   ],
   "source": [
    "# load data\n",
    "test = pd.read_csv(\"test.csv\")\n",
    "print test.shape\n",
    "test.head()"
   ]
  },
  {
   "cell_type": "markdown",
   "metadata": {},
   "source": [
    "### Check and fill missing data"
   ]
  },
  {
   "cell_type": "code",
   "execution_count": 71,
   "metadata": {
    "collapsed": false
   },
   "outputs": [
    {
     "name": "stdout",
     "output_type": "stream",
     "text": [
      "gender any null? False\n",
      "cd any null? True\n",
      "hd any null? True\n",
      "age any null? False\n",
      "dbdistance any null? True\n",
      "vccdistance any null? True\n",
      "party any null? False\n",
      "racename any null? False\n",
      "hsonly any null? False\n",
      "mrrg any null? False\n",
      "chldprsnt any null? False\n",
      "cath any null? False\n",
      "evang any null? False\n",
      "nonchrst any null? False\n",
      "otherchrst any null? False\n",
      "days.since.reg any null? False\n",
      "Id any null? False\n"
     ]
    }
   ],
   "source": [
    "# check NaN column by column\n",
    "print 'gender any null? ' + str(test['gender'].isnull().values.any())\n",
    "print 'cd any null? ' + str(test['cd'].isnull().values.any())\n",
    "print 'hd any null? ' + str(test['hd'].isnull().values.any())\n",
    "print 'age any null? ' + str(test['age'].isnull().values.any())\n",
    "print 'dbdistance any null? ' + str(test['dbdistance'].isnull().values.any())\n",
    "print 'vccdistance any null? ' + str(test['vccdistance'].isnull().values.any())\n",
    "print 'party any null? ' + str(test['party'].isnull().values.any())\n",
    "print 'racename any null? ' + str(test['racename'].isnull().values.any())\n",
    "print 'hsonly any null? ' + str(test['hsonly'].isnull().values.any())\n",
    "print 'mrrg any null? ' + str(test['mrrg'].isnull().values.any())\n",
    "print 'chldprsnt any null? ' + str(test['chldprsnt'].isnull().values.any())\n",
    "print 'cath any null? ' + str(test['cath'].isnull().values.any())\n",
    "print 'evang any null? ' + str(test['evang'].isnull().values.any())\n",
    "print 'nonchrst any null? ' + str(test['nonchrst'].isnull().values.any())\n",
    "print 'otherchrst any null? ' + str(test['otherchrst'].isnull().values.any())\n",
    "print 'days.since.reg any null? ' + str(test['days.since.reg'].isnull().values.any())\n",
    "print 'Id any null? ' + str(test['Id'].isnull().values.any())"
   ]
  },
  {
   "cell_type": "code",
   "execution_count": 72,
   "metadata": {
    "collapsed": true
   },
   "outputs": [],
   "source": [
    "# fill missing data\n",
    "predictors_na = ['cd', 'hd', 'dbdistance', 'vccdistance']\n",
    "test_filled = pd.DataFrame(test)\n",
    "test_filled[predictors_na] = test_filled[predictors_na].apply(lambda x:x.fillna(x.mean()))"
   ]
  },
  {
   "cell_type": "markdown",
   "metadata": {},
   "source": [
    "### Do one-hot encoding and split train and test"
   ]
  },
  {
   "cell_type": "code",
   "execution_count": 73,
   "metadata": {
    "collapsed": false
   },
   "outputs": [
    {
     "data": {
      "text/html": [
       "<div>\n",
       "<table border=\"1\" class=\"dataframe\">\n",
       "  <thead>\n",
       "    <tr style=\"text-align: right;\">\n",
       "      <th></th>\n",
       "      <th>gender</th>\n",
       "      <th>cd</th>\n",
       "      <th>hd</th>\n",
       "      <th>age</th>\n",
       "      <th>dbdistance</th>\n",
       "      <th>vccdistance</th>\n",
       "      <th>party</th>\n",
       "      <th>racename</th>\n",
       "      <th>hsonly</th>\n",
       "      <th>mrrg</th>\n",
       "      <th>chldprsnt</th>\n",
       "      <th>cath</th>\n",
       "      <th>evang</th>\n",
       "      <th>nonchrst</th>\n",
       "      <th>otherchrst</th>\n",
       "      <th>days.since.reg</th>\n",
       "    </tr>\n",
       "  </thead>\n",
       "  <tbody>\n",
       "    <tr>\n",
       "      <th>0</th>\n",
       "      <td>M</td>\n",
       "      <td>2.0</td>\n",
       "      <td>52.0</td>\n",
       "      <td>30</td>\n",
       "      <td>2.988858</td>\n",
       "      <td>3.42336</td>\n",
       "      <td>L</td>\n",
       "      <td>Caucasian</td>\n",
       "      <td>19.5</td>\n",
       "      <td>21.2</td>\n",
       "      <td>25.3</td>\n",
       "      <td>9.8</td>\n",
       "      <td>16.6</td>\n",
       "      <td>45.2</td>\n",
       "      <td>28.4</td>\n",
       "      <td>393</td>\n",
       "    </tr>\n",
       "    <tr>\n",
       "      <th>1</th>\n",
       "      <td>F</td>\n",
       "      <td>5.0</td>\n",
       "      <td>19.0</td>\n",
       "      <td>20</td>\n",
       "      <td>2.988858</td>\n",
       "      <td>3.42336</td>\n",
       "      <td>U</td>\n",
       "      <td>Caucasian</td>\n",
       "      <td>39.7</td>\n",
       "      <td>20.2</td>\n",
       "      <td>29.1</td>\n",
       "      <td>12.0</td>\n",
       "      <td>14.4</td>\n",
       "      <td>41.4</td>\n",
       "      <td>32.2</td>\n",
       "      <td>668</td>\n",
       "    </tr>\n",
       "    <tr>\n",
       "      <th>2</th>\n",
       "      <td>M</td>\n",
       "      <td>4.0</td>\n",
       "      <td>44.0</td>\n",
       "      <td>56</td>\n",
       "      <td>2.988858</td>\n",
       "      <td>3.42336</td>\n",
       "      <td>R</td>\n",
       "      <td>Caucasian</td>\n",
       "      <td>11.3</td>\n",
       "      <td>62.7</td>\n",
       "      <td>41.3</td>\n",
       "      <td>14.8</td>\n",
       "      <td>14.7</td>\n",
       "      <td>36.0</td>\n",
       "      <td>34.6</td>\n",
       "      <td>606</td>\n",
       "    </tr>\n",
       "    <tr>\n",
       "      <th>3</th>\n",
       "      <td>F</td>\n",
       "      <td>7.0</td>\n",
       "      <td>34.0</td>\n",
       "      <td>20</td>\n",
       "      <td>2.988858</td>\n",
       "      <td>3.42336</td>\n",
       "      <td>R</td>\n",
       "      <td>Caucasian</td>\n",
       "      <td>32.8</td>\n",
       "      <td>11.6</td>\n",
       "      <td>33.1</td>\n",
       "      <td>14.5</td>\n",
       "      <td>10.3</td>\n",
       "      <td>44.6</td>\n",
       "      <td>30.6</td>\n",
       "      <td>565</td>\n",
       "    </tr>\n",
       "    <tr>\n",
       "      <th>4</th>\n",
       "      <td>F</td>\n",
       "      <td>6.0</td>\n",
       "      <td>41.0</td>\n",
       "      <td>26</td>\n",
       "      <td>2.988858</td>\n",
       "      <td>3.42336</td>\n",
       "      <td>D</td>\n",
       "      <td>Uncoded</td>\n",
       "      <td>10.2</td>\n",
       "      <td>14.7</td>\n",
       "      <td>22.4</td>\n",
       "      <td>8.2</td>\n",
       "      <td>18.4</td>\n",
       "      <td>43.5</td>\n",
       "      <td>29.9</td>\n",
       "      <td>336</td>\n",
       "    </tr>\n",
       "  </tbody>\n",
       "</table>\n",
       "</div>"
      ],
      "text/plain": [
       "  gender   cd    hd  age  dbdistance  vccdistance party   racename  hsonly  \\\n",
       "0      M  2.0  52.0   30    2.988858      3.42336     L  Caucasian    19.5   \n",
       "1      F  5.0  19.0   20    2.988858      3.42336     U  Caucasian    39.7   \n",
       "2      M  4.0  44.0   56    2.988858      3.42336     R  Caucasian    11.3   \n",
       "3      F  7.0  34.0   20    2.988858      3.42336     R  Caucasian    32.8   \n",
       "4      F  6.0  41.0   26    2.988858      3.42336     D    Uncoded    10.2   \n",
       "\n",
       "   mrrg  chldprsnt  cath  evang  nonchrst  otherchrst  days.since.reg  \n",
       "0  21.2       25.3   9.8   16.6      45.2        28.4             393  \n",
       "1  20.2       29.1  12.0   14.4      41.4        32.2             668  \n",
       "2  62.7       41.3  14.8   14.7      36.0        34.6             606  \n",
       "3  11.6       33.1  14.5   10.3      44.6        30.6             565  \n",
       "4  14.7       22.4   8.2   18.4      43.5        29.9             336  "
      ]
     },
     "execution_count": 73,
     "metadata": {},
     "output_type": "execute_result"
    }
   ],
   "source": [
    "# one-hot encoding categorical predictors\n",
    "predictors = ['gender', 'cd', 'hd', 'age', 'dbdistance', 'vccdistance',\n",
    "       'party', 'racename', 'hsonly', 'mrrg', 'chldprsnt', 'cath', 'evang',\n",
    "       'nonchrst', 'otherchrst', 'days.since.reg']\n",
    "cate = ['gender', 'cd', 'hd', 'party', 'racename', ]\n",
    "\n",
    "df_test_x=pd.DataFrame(test_filled[predictors])\n",
    "df_test_x.head()"
   ]
  },
  {
   "cell_type": "code",
   "execution_count": 74,
   "metadata": {
    "collapsed": false
   },
   "outputs": [
    {
     "name": "stdout",
     "output_type": "stream",
     "text": [
      "(39510, 105)\n"
     ]
    }
   ],
   "source": [
    "# one hot encoding 'gender'\n",
    "onehot = pd.get_dummies(df_test_x['gender'],prefix='gen')\n",
    "df_test_x = df_test_x.drop('gender', axis=1)\n",
    "df_test_x = df_test_x.join(onehot)\n",
    "\n",
    "# one hot encoding 'cd'\n",
    "onehot = pd.get_dummies(df_test_x['cd'],prefix='cd')\n",
    "df_test_x = df_test_x.drop('cd', axis=1)\n",
    "df_test_x = df_test_x.join(onehot)\n",
    "\n",
    "# one hot encoding 'hd'\n",
    "onehot = pd.get_dummies(df_test_x['hd'],prefix='hd')\n",
    "df_test_x = df_test_x.drop('hd', axis=1)\n",
    "df_test_x = df_test_x.join(onehot)\n",
    "\n",
    "# one hot encoding 'party'\n",
    "onehot = pd.get_dummies(df_test_x['party'],prefix='pty')\n",
    "df_test_x = df_test_x.drop('party', axis=1)\n",
    "df_test_x = df_test_x.join(onehot)\n",
    "\n",
    "# one hot encoding 'racename'\n",
    "onehot = pd.get_dummies(df_test_x['racename'])\n",
    "df_test_x = df_test_x.drop('racename', axis=1)\n",
    "df_test_x = df_test_x.join(onehot)\n",
    "\n",
    "df_test_x.head(7)\n",
    "print df_test_x.shape"
   ]
  },
  {
   "cell_type": "code",
   "execution_count": 76,
   "metadata": {
    "collapsed": false
   },
   "outputs": [
    {
     "name": "stdout",
     "output_type": "stream",
     "text": [
      "[[  30.            2.98885831    3.42336005   19.5          21.2          25.3\n",
      "     9.8          16.6          45.2          28.4         393.            0.\n",
      "     1.            0.            0.            1.            0.            0.\n",
      "     0.            0.            0.            0.            0.            0.\n",
      "     0.            0.            0.            0.            0.            0.\n",
      "     0.            0.            0.            0.            0.            0.\n",
      "     0.            0.            0.            0.            0.            0.\n",
      "     0.            0.            0.            0.            0.            0.\n",
      "     0.            0.            0.            0.            0.            0.\n",
      "     0.            0.            0.            0.            0.            0.\n",
      "     0.            0.            0.            0.            0.            0.\n",
      "     0.            0.            0.            0.            0.            0.\n",
      "     0.            0.            1.            0.            0.            0.\n",
      "     0.            0.            0.            0.            0.            0.\n",
      "     0.            0.            0.            0.            0.            0.\n",
      "     1.            0.            0.            0.            0.            1.\n",
      "     0.            0.            0.            0.            0.            0.\n",
      "     0.            0.            0.        ]\n",
      " [  20.            2.98885831    3.42336005   39.7          20.2          29.1\n",
      "    12.           14.4          41.4          32.2         668.            1.\n",
      "     0.            0.            0.            0.            0.            0.\n",
      "     0.            1.            0.            0.            0.            0.\n",
      "     0.            0.            0.            0.            0.            0.\n",
      "     0.            0.            0.            0.            0.            0.\n",
      "     0.            0.            0.            0.            1.            0.\n",
      "     0.            0.            0.            0.            0.            0.\n",
      "     0.            0.            0.            0.            0.            0.\n",
      "     0.            0.            0.            0.            0.            0.\n",
      "     0.            0.            0.            0.            0.            0.\n",
      "     0.            0.            0.            0.            0.            0.\n",
      "     0.            0.            0.            0.            0.            0.\n",
      "     0.            0.            0.            0.            0.            0.\n",
      "     0.            0.            0.            0.            0.            0.\n",
      "     0.            0.            0.            1.            0.            1.\n",
      "     0.            0.            0.            0.            0.            0.\n",
      "     0.            0.            0.        ]\n",
      " [  56.            2.98885831    3.42336005   11.3          62.7          41.3\n",
      "    14.8          14.7          36.           34.6         606.            0.\n",
      "     1.            0.            0.            0.            0.            0.\n",
      "     1.            0.            0.            0.            0.            0.\n",
      "     0.            0.            0.            0.            0.            0.\n",
      "     0.            0.            0.            0.            0.            0.\n",
      "     0.            0.            0.            0.            0.            0.\n",
      "     0.            0.            0.            0.            0.            0.\n",
      "     0.            0.            0.            0.            0.            0.\n",
      "     0.            0.            0.            0.            0.            0.\n",
      "     0.            0.            0.            0.            0.            0.\n",
      "     1.            0.            0.            0.            0.            0.\n",
      "     0.            0.            0.            0.            0.            0.\n",
      "     0.            0.            0.            0.            0.            0.\n",
      "     0.            0.            0.            0.            0.            0.\n",
      "     0.            0.            1.            0.            0.            1.\n",
      "     0.            0.            0.            0.            0.            0.\n",
      "     0.            0.            0.        ]]\n"
     ]
    }
   ],
   "source": [
    "# separate x\n",
    "test_x=df_test_x.values\n",
    "print test_x[0:3,:]"
   ]
  },
  {
   "cell_type": "markdown",
   "metadata": {},
   "source": [
    "### GridSearch by cross validation"
   ]
  },
  {
   "cell_type": "code",
   "execution_count": 63,
   "metadata": {
    "collapsed": true
   },
   "outputs": [],
   "source": [
    "# --------------\n",
    "# A generic function to do CV\n",
    "# --------------\n",
    "def cv_optimize(clf, parameters, X, y, n_jobs=1, n_folds=5, score_func=None):\n",
    "    if score_func:\n",
    "        gs = GridSearchCV(clf, param_grid=parameters, cv=n_folds, n_jobs=n_jobs, scoring=score_func)\n",
    "    else:\n",
    "        gs = GridSearchCV(clf, param_grid=parameters, n_jobs=n_jobs, cv=n_folds)\n",
    "    gs.fit(X, y)\n",
    "\n",
    "    best = gs.best_estimator_\n",
    "    return best"
   ]
  },
  {
   "cell_type": "markdown",
   "metadata": {},
   "source": [
    "## Modeling and optimization\n",
    "### Random forest"
   ]
  },
  {
   "cell_type": "code",
   "execution_count": 66,
   "metadata": {
    "collapsed": false
   },
   "outputs": [
    {
     "name": "stdout",
     "output_type": "stream",
     "text": [
      "Optimal n_estimators: 35\n",
      "Optimal max_depth: 18\n"
     ]
    }
   ],
   "source": [
    "# --------------\n",
    "# Optimize n_estimators, max_depth in random forest\n",
    "# --------------\n",
    "dt_rforest = ensemble.RandomForestClassifier(max_depth=3)\n",
    "rforest = dt_rforest.fit(my_x_train, my_y_train)\n",
    "\n",
    "parameters = {'max_depth': [12, 14, 16, 18, 20, 22, 24], 'n_estimators': [20, 25, 30, 35, 40]}\n",
    "rforest = cv_optimize(rforest, parameters, my_x_train, my_y_train, n_jobs=10, n_folds=5, score_func=None)\n",
    "print 'Optimal n_estimators: ' + str(rforest.n_estimators)\n",
    "print 'Optimal max_depth: ' + str(rforest.max_depth)"
   ]
  },
  {
   "cell_type": "code",
   "execution_count": 67,
   "metadata": {
    "collapsed": false
   },
   "outputs": [
    {
     "name": "stdout",
     "output_type": "stream",
     "text": [
      "Random forest score: 0.71217898964\n",
      "Compute Time 5.60620379448\n"
     ]
    }
   ],
   "source": [
    "# --------------\n",
    "# Random Forest\n",
    "# --------------\n",
    "start_time = time.time()\n",
    "dt_rforest = ensemble.RandomForestClassifier(max_depth = 18, n_estimators = 35)\n",
    "dt_rforest.fit(my_x_train, my_y_train)\n",
    "compute_time = time.time() - start_time\n",
    "\n",
    "print \"Random forest score: \" + str(dt_rforest.score(my_x_test, my_y_test))\n",
    "print \"Compute Time\", compute_time"
   ]
  },
  {
   "cell_type": "code",
   "execution_count": 68,
   "metadata": {
    "collapsed": false
   },
   "outputs": [
    {
     "data": {
      "text/plain": [
       "array(['N', 'Y'], dtype=object)"
      ]
     },
     "execution_count": 68,
     "metadata": {},
     "output_type": "execute_result"
    }
   ],
   "source": [
    "dt_rforest.classes_"
   ]
  },
  {
   "cell_type": "markdown",
   "metadata": {},
   "source": [
    "### KNN"
   ]
  },
  {
   "cell_type": "code",
   "execution_count": 86,
   "metadata": {
    "collapsed": false
   },
   "outputs": [
    {
     "name": "stdout",
     "output_type": "stream",
     "text": [
      "Optimal n_neighbors: 21\n"
     ]
    }
   ],
   "source": [
    "# --------------\n",
    "# Optimize n_neighbors in KNN\n",
    "# --------------\n",
    "dt_KNN = KNN(n_neighbors=5, weights='distance', n_jobs=10)\n",
    "mKNN = dt_KNN.fit(my_x_train, my_y_train)\n",
    "\n",
    "KNN_params = {'n_neighbors': [3, 5, 7, 9, 11, 13, 15, 17, 19, 21]}\n",
    "mKNN = cv_optimize(mKNN, KNN_params, my_x_train, my_y_train, n_jobs=10, n_folds=5, score_func=None)\n",
    "print 'Optimal n_neighbors: ' + str(mKNN.n_neighbors)"
   ]
  },
  {
   "cell_type": "code",
   "execution_count": 87,
   "metadata": {
    "collapsed": false
   },
   "outputs": [
    {
     "name": "stdout",
     "output_type": "stream",
     "text": [
      "KNN score: 0.676880504843\n",
      "Compute Time 0.908000946045\n"
     ]
    }
   ],
   "source": [
    "# --------------\n",
    "# KNN\n",
    "# --------------\n",
    "start_time = time.time()\n",
    "dt_KNN = KNN(n_neighbors=21, weights='distance', n_jobs=10)\n",
    "mKNN = dt_KNN.fit(my_x_train, my_y_train)\n",
    "compute_time = time.time() - start_time\n",
    "\n",
    "print \"KNN score: \" + str(mKNN.score(my_x_test, my_y_test))\n",
    "print \"Compute Time\", compute_time"
   ]
  },
  {
   "cell_type": "code",
   "execution_count": 88,
   "metadata": {
    "collapsed": false
   },
   "outputs": [
    {
     "data": {
      "text/plain": [
       "array(['N', 'Y'], dtype=object)"
      ]
     },
     "execution_count": 88,
     "metadata": {},
     "output_type": "execute_result"
    }
   ],
   "source": [
    "dt_KNN.classes_"
   ]
  },
  {
   "cell_type": "markdown",
   "metadata": {},
   "source": [
    "### GBoost"
   ]
  },
  {
   "cell_type": "code",
   "execution_count": 92,
   "metadata": {
    "collapsed": false
   },
   "outputs": [
    {
     "name": "stdout",
     "output_type": "stream",
     "text": [
      "GradBoosting score: 0.714406236291\n",
      "Compute Time 31.883067131\n"
     ]
    }
   ],
   "source": [
    "start_time = time.time()\n",
    "mGBoost = GBoost()\n",
    "mGBoost.fit(my_x_train, my_y_train)\n",
    "compute_time = time.time() - start_time\n",
    "\n",
    "print \"GradBoosting score: \" + str(mGBoost.score(my_x_test, my_y_test))\n",
    "print \"Compute Time\", compute_time"
   ]
  },
  {
   "cell_type": "code",
   "execution_count": 93,
   "metadata": {
    "collapsed": false
   },
   "outputs": [
    {
     "data": {
      "text/plain": [
       "array(['N', 'Y'], dtype=object)"
      ]
     },
     "execution_count": 93,
     "metadata": {},
     "output_type": "execute_result"
    }
   ],
   "source": [
    "mGBoost.classes_"
   ]
  },
  {
   "cell_type": "markdown",
   "metadata": {},
   "source": [
    "### Bagging"
   ]
  },
  {
   "cell_type": "code",
   "execution_count": 97,
   "metadata": {
    "collapsed": false
   },
   "outputs": [
    {
     "name": "stdout",
     "output_type": "stream",
     "text": [
      "Optimal n_estimators: 60\n"
     ]
    }
   ],
   "source": [
    "# --------------\n",
    "# Optimize Bagging\n",
    "# --------------\n",
    "mBag = Bagging()\n",
    "mBag.fit(my_x_train, my_y_train)\n",
    "compute_time = time.time() - start_time\n",
    "\n",
    "Bag_params = {'n_estimators': [10, 20, 30, 40, 50, 60]}\n",
    "mBag = cv_optimize(mBag, Bag_params, my_x_train, my_y_train, n_jobs=10, n_folds=5, score_func=None)\n",
    "print 'Optimal n_estimators: ' + str(mBag.n_estimators)"
   ]
  },
  {
   "cell_type": "code",
   "execution_count": 98,
   "metadata": {
    "collapsed": false
   },
   "outputs": [
    {
     "name": "stdout",
     "output_type": "stream",
     "text": [
      "Bagging score: 0.702932541423\n",
      "Compute Time 26.4830219746\n"
     ]
    }
   ],
   "source": [
    "start_time = time.time()\n",
    "mBag = Bagging(n_estimators=60, n_jobs=10)\n",
    "mBag.fit(my_x_train, my_y_train)\n",
    "compute_time = time.time() - start_time\n",
    "\n",
    "print \"Bagging score: \" + str(mBag.score(my_x_test, my_y_test))\n",
    "print \"Compute Time\", compute_time"
   ]
  },
  {
   "cell_type": "code",
   "execution_count": 99,
   "metadata": {
    "collapsed": false
   },
   "outputs": [
    {
     "data": {
      "text/plain": [
       "array(['N', 'Y'], dtype=object)"
      ]
     },
     "execution_count": 99,
     "metadata": {},
     "output_type": "execute_result"
    }
   ],
   "source": [
    "mBag.classes_"
   ]
  },
  {
   "cell_type": "markdown",
   "metadata": {},
   "source": [
    "### SVC"
   ]
  },
  {
   "cell_type": "code",
   "execution_count": null,
   "metadata": {
    "collapsed": true
   },
   "outputs": [],
   "source": [
    "# --------------\n",
    "# Optimize SVM\n",
    "# --------------\n",
    "dt_SVM = SVC(C=50, kernel='linear')\n",
    "mSVM = dt_SVM.fit(my_x_train, my_y_train)\n",
    "\n",
    "SVM_params = {'C': [800, 1000, 1200, 1400, 1600]}\n",
    "mSVM = cv_optimize(mSVM, SVM_params, my_x_train, my_y_train, n_jobs=10, n_folds=5, score_func=None)\n",
    "print 'Optimal C: ' + str(mSVM.C)"
   ]
  },
  {
   "cell_type": "code",
   "execution_count": null,
   "metadata": {
    "collapsed": true
   },
   "outputs": [],
   "source": [
    "# --------------\n",
    "# SVM\n",
    "# --------------\n",
    "start_time = time.time()\n",
    "dt_SVM = SVC(C=1000, kernel='linear')\n",
    "mSVM = dt_SVM.fit(my_x_train, my_y_train)\n",
    "compute_time = time.time() - start_time\n",
    "\n",
    "print \"SVM score: \" + str(mSVM.score(my_x_test, my_y_test))\n",
    "print \"Compute Time\", compute_time"
   ]
  },
  {
   "cell_type": "code",
   "execution_count": null,
   "metadata": {
    "collapsed": true
   },
   "outputs": [],
   "source": [
    "mSVM.classes_"
   ]
  },
  {
   "cell_type": "markdown",
   "metadata": {},
   "source": [
    "## Do prediction"
   ]
  },
  {
   "cell_type": "markdown",
   "metadata": {},
   "source": [
    "### Random Forest"
   ]
  },
  {
   "cell_type": "code",
   "execution_count": 82,
   "metadata": {
    "collapsed": false
   },
   "outputs": [
    {
     "name": "stdout",
     "output_type": "stream",
     "text": [
      "[[ 0.37287798  0.62712202]\n",
      " [ 0.51054856  0.48945144]\n",
      " [ 0.25507251  0.74492749]\n",
      " [ 0.29004631  0.70995369]\n",
      " [ 0.21602965  0.78397035]]\n"
     ]
    }
   ],
   "source": [
    "pred_y = dt_rforest.predict_proba(test_x)\n",
    "print pred_y[0:5,:]"
   ]
  },
  {
   "cell_type": "markdown",
   "metadata": {},
   "source": [
    "### KNN"
   ]
  },
  {
   "cell_type": "code",
   "execution_count": 89,
   "metadata": {
    "collapsed": false
   },
   "outputs": [
    {
     "name": "stdout",
     "output_type": "stream",
     "text": [
      "[[ 0.43069753  0.56930247]\n",
      " [ 0.4121044   0.5878956 ]\n",
      " [ 0.33823453  0.66176547]\n",
      " [ 0.43047334  0.56952666]\n",
      " [ 0.06307356  0.93692644]]\n"
     ]
    }
   ],
   "source": [
    "pred_y = dt_KNN.predict_proba(test_x)\n",
    "print pred_y[0:5,:]"
   ]
  },
  {
   "cell_type": "markdown",
   "metadata": {},
   "source": [
    "### GBoost"
   ]
  },
  {
   "cell_type": "code",
   "execution_count": 94,
   "metadata": {
    "collapsed": false
   },
   "outputs": [
    {
     "name": "stdout",
     "output_type": "stream",
     "text": [
      "[[ 0.33929182  0.66070818]\n",
      " [ 0.55804637  0.44195363]\n",
      " [ 0.27185358  0.72814642]\n",
      " [ 0.32067297  0.67932703]\n",
      " [ 0.20513272  0.79486728]]\n"
     ]
    }
   ],
   "source": [
    "pred_y = mGBoost.predict_proba(test_x)\n",
    "print pred_y[0:5,:]"
   ]
  },
  {
   "cell_type": "markdown",
   "metadata": {},
   "source": [
    "### Bagging"
   ]
  },
  {
   "cell_type": "code",
   "execution_count": 100,
   "metadata": {
    "collapsed": false
   },
   "outputs": [
    {
     "name": "stderr",
     "output_type": "stream",
     "text": [
      "/Applications/anaconda/envs/py27/lib/python2.7/site-packages/sklearn/externals/joblib/hashing.py:197: DeprecationWarning: Changing the shape of non-C contiguous array by\n",
      "descriptor assignment is deprecated. To maintain\n",
      "the Fortran contiguity of a multidimensional Fortran\n",
      "array, use 'a.T.view(...).T' instead\n",
      "  obj_bytes_view = obj.view(self.np.uint8)\n",
      "/Applications/anaconda/envs/py27/lib/python2.7/site-packages/sklearn/externals/joblib/hashing.py:197: DeprecationWarning: Changing the shape of non-C contiguous array by\n",
      "descriptor assignment is deprecated. To maintain\n",
      "the Fortran contiguity of a multidimensional Fortran\n",
      "array, use 'a.T.view(...).T' instead\n",
      "  obj_bytes_view = obj.view(self.np.uint8)\n",
      "/Applications/anaconda/envs/py27/lib/python2.7/site-packages/sklearn/externals/joblib/hashing.py:197: DeprecationWarning: Changing the shape of non-C contiguous array by\n",
      "descriptor assignment is deprecated. To maintain\n",
      "the Fortran contiguity of a multidimensional Fortran\n",
      "array, use 'a.T.view(...).T' instead\n",
      "  obj_bytes_view = obj.view(self.np.uint8)\n",
      "/Applications/anaconda/envs/py27/lib/python2.7/site-packages/sklearn/externals/joblib/hashing.py:197: DeprecationWarning: Changing the shape of non-C contiguous array by\n",
      "descriptor assignment is deprecated. To maintain\n",
      "the Fortran contiguity of a multidimensional Fortran\n",
      "array, use 'a.T.view(...).T' instead\n",
      "  obj_bytes_view = obj.view(self.np.uint8)\n",
      "/Applications/anaconda/envs/py27/lib/python2.7/site-packages/sklearn/externals/joblib/hashing.py:197: DeprecationWarning: Changing the shape of non-C contiguous array by\n",
      "descriptor assignment is deprecated. To maintain\n",
      "the Fortran contiguity of a multidimensional Fortran\n",
      "array, use 'a.T.view(...).T' instead\n",
      "  obj_bytes_view = obj.view(self.np.uint8)\n",
      "/Applications/anaconda/envs/py27/lib/python2.7/site-packages/sklearn/externals/joblib/hashing.py:197: DeprecationWarning: Changing the shape of non-C contiguous array by\n",
      "descriptor assignment is deprecated. To maintain\n",
      "the Fortran contiguity of a multidimensional Fortran\n",
      "array, use 'a.T.view(...).T' instead\n",
      "  obj_bytes_view = obj.view(self.np.uint8)\n",
      "/Applications/anaconda/envs/py27/lib/python2.7/site-packages/sklearn/externals/joblib/hashing.py:197: DeprecationWarning: Changing the shape of non-C contiguous array by\n",
      "descriptor assignment is deprecated. To maintain\n",
      "the Fortran contiguity of a multidimensional Fortran\n",
      "array, use 'a.T.view(...).T' instead\n",
      "  obj_bytes_view = obj.view(self.np.uint8)\n",
      "/Applications/anaconda/envs/py27/lib/python2.7/site-packages/sklearn/externals/joblib/hashing.py:197: DeprecationWarning: Changing the shape of non-C contiguous array by\n",
      "descriptor assignment is deprecated. To maintain\n",
      "the Fortran contiguity of a multidimensional Fortran\n",
      "array, use 'a.T.view(...).T' instead\n",
      "  obj_bytes_view = obj.view(self.np.uint8)\n",
      "/Applications/anaconda/envs/py27/lib/python2.7/site-packages/sklearn/externals/joblib/hashing.py:197: DeprecationWarning: Changing the shape of non-C contiguous array by\n",
      "descriptor assignment is deprecated. To maintain\n",
      "the Fortran contiguity of a multidimensional Fortran\n",
      "array, use 'a.T.view(...).T' instead\n",
      "  obj_bytes_view = obj.view(self.np.uint8)\n",
      "/Applications/anaconda/envs/py27/lib/python2.7/site-packages/sklearn/externals/joblib/hashing.py:197: DeprecationWarning: Changing the shape of non-C contiguous array by\n",
      "descriptor assignment is deprecated. To maintain\n",
      "the Fortran contiguity of a multidimensional Fortran\n",
      "array, use 'a.T.view(...).T' instead\n",
      "  obj_bytes_view = obj.view(self.np.uint8)\n"
     ]
    },
    {
     "name": "stdout",
     "output_type": "stream",
     "text": [
      "[[ 0.5         0.5       ]\n",
      " [ 0.5         0.5       ]\n",
      " [ 0.38333333  0.61666667]\n",
      " [ 0.28333333  0.71666667]\n",
      " [ 0.11666667  0.88333333]]\n"
     ]
    }
   ],
   "source": [
    "pred_y = mBag.predict_proba(test_x)\n",
    "print pred_y[0:5,:]"
   ]
  },
  {
   "cell_type": "markdown",
   "metadata": {},
   "source": [
    "## Save prediction"
   ]
  },
  {
   "cell_type": "code",
   "execution_count": 101,
   "metadata": {
    "collapsed": false
   },
   "outputs": [
    {
     "data": {
      "text/html": [
       "<div>\n",
       "<table border=\"1\" class=\"dataframe\">\n",
       "  <thead>\n",
       "    <tr style=\"text-align: right;\">\n",
       "      <th></th>\n",
       "      <th>Id</th>\n",
       "      <th>voted</th>\n",
       "    </tr>\n",
       "  </thead>\n",
       "  <tbody>\n",
       "    <tr>\n",
       "      <th>0</th>\n",
       "      <td>1</td>\n",
       "      <td>0.500000</td>\n",
       "    </tr>\n",
       "    <tr>\n",
       "      <th>1</th>\n",
       "      <td>2</td>\n",
       "      <td>0.500000</td>\n",
       "    </tr>\n",
       "    <tr>\n",
       "      <th>2</th>\n",
       "      <td>3</td>\n",
       "      <td>0.616667</td>\n",
       "    </tr>\n",
       "    <tr>\n",
       "      <th>3</th>\n",
       "      <td>4</td>\n",
       "      <td>0.716667</td>\n",
       "    </tr>\n",
       "    <tr>\n",
       "      <th>4</th>\n",
       "      <td>5</td>\n",
       "      <td>0.883333</td>\n",
       "    </tr>\n",
       "  </tbody>\n",
       "</table>\n",
       "</div>"
      ],
      "text/plain": [
       "   Id     voted\n",
       "0   1  0.500000\n",
       "1   2  0.500000\n",
       "2   3  0.616667\n",
       "3   4  0.716667\n",
       "4   5  0.883333"
      ]
     },
     "execution_count": 101,
     "metadata": {},
     "output_type": "execute_result"
    }
   ],
   "source": [
    "df_pred = pd.DataFrame(test_filled['Id'])\n",
    "df_pred['voted'] = pd.Series(pred_y[:,1], index=df_pred.index)\n",
    "df_pred.head()"
   ]
  },
  {
   "cell_type": "code",
   "execution_count": 102,
   "metadata": {
    "collapsed": true
   },
   "outputs": [],
   "source": [
    "#df_pred.to_csv('pred_RF_d18_n35.csv',index=False)\n",
    "#df_pred.to_csv('pred_KNN_k21.csv',index=False)\n",
    "#df_pred.to_csv('pred_GBoost.csv',index=False)\n",
    "df_pred.to_csv('pred_Bagging.csv',index=False)"
   ]
  },
  {
   "cell_type": "code",
   "execution_count": null,
   "metadata": {
    "collapsed": true
   },
   "outputs": [],
   "source": []
  }
 ],
 "metadata": {
  "kernelspec": {
   "display_name": "Python [py27]",
   "language": "python",
   "name": "Python [py27]"
  },
  "language_info": {
   "codemirror_mode": {
    "name": "ipython",
    "version": 2
   },
   "file_extension": ".py",
   "mimetype": "text/x-python",
   "name": "python",
   "nbconvert_exporter": "python",
   "pygments_lexer": "ipython2",
   "version": "2.7.12"
  }
 },
 "nbformat": 4,
 "nbformat_minor": 0
}
